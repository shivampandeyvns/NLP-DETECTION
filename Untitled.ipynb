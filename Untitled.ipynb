{
 "cells": [
  {
   "cell_type": "code",
   "execution_count": 1,
   "metadata": {},
   "outputs": [],
   "source": [
    "from pandas_ods_reader import read_ods"
   ]
  },
  {
   "cell_type": "code",
   "execution_count": 2,
   "metadata": {},
   "outputs": [],
   "source": [
    "data=read_ods(\"hi_3500.ods\",1,headers=False)"
   ]
  },
  {
   "cell_type": "code",
   "execution_count": 4,
   "metadata": {},
   "outputs": [
    {
     "data": {
      "text/html": [
       "<div>\n",
       "<style scoped>\n",
       "    .dataframe tbody tr th:only-of-type {\n",
       "        vertical-align: middle;\n",
       "    }\n",
       "\n",
       "    .dataframe tbody tr th {\n",
       "        vertical-align: top;\n",
       "    }\n",
       "\n",
       "    .dataframe thead th {\n",
       "        text-align: right;\n",
       "    }\n",
       "</style>\n",
       "<table border=\"1\" class=\"dataframe\">\n",
       "  <thead>\n",
       "    <tr style=\"text-align: right;\">\n",
       "      <th></th>\n",
       "      <th>column.0</th>\n",
       "      <th>column.1</th>\n",
       "    </tr>\n",
       "  </thead>\n",
       "  <tbody>\n",
       "    <tr>\n",
       "      <th>0</th>\n",
       "      <td>लोग वतन तक खा जाते हैं इसका इसे यकीन नहींमान ज...</td>\n",
       "      <td>negative</td>\n",
       "    </tr>\n",
       "    <tr>\n",
       "      <th>1</th>\n",
       "      <td>गुमनाम है वतन पर मिटने वाले लोग आतन्कवादियों स...</td>\n",
       "      <td>negative</td>\n",
       "    </tr>\n",
       "    <tr>\n",
       "      <th>2</th>\n",
       "      <td>ज़ंजीर बदली जा रही थी मैं समझा था रिहाई हो गयी है</td>\n",
       "      <td>negative</td>\n",
       "    </tr>\n",
       "    <tr>\n",
       "      <th>3</th>\n",
       "      <td>यूपी में बड़े स्तर पर दंगे करवा सकती है बीजेपी...</td>\n",
       "      <td>negative</td>\n",
       "    </tr>\n",
       "    <tr>\n",
       "      <th>4</th>\n",
       "      <td>अंग्रेजी नहीं आती है इसलिए हिन्दी ट्विट ज्यादा...</td>\n",
       "      <td>negative</td>\n",
       "    </tr>\n",
       "  </tbody>\n",
       "</table>\n",
       "</div>"
      ],
      "text/plain": [
       "                                            column.0  column.1\n",
       "0  लोग वतन तक खा जाते हैं इसका इसे यकीन नहींमान ज...  negative\n",
       "1  गुमनाम है वतन पर मिटने वाले लोग आतन्कवादियों स...  negative\n",
       "2  ज़ंजीर बदली जा रही थी मैं समझा था रिहाई हो गयी है  negative\n",
       "3  यूपी में बड़े स्तर पर दंगे करवा सकती है बीजेपी...  negative\n",
       "4  अंग्रेजी नहीं आती है इसलिए हिन्दी ट्विट ज्यादा...  negative"
      ]
     },
     "execution_count": 4,
     "metadata": {},
     "output_type": "execute_result"
    }
   ],
   "source": [
    "data.head()"
   ]
  },
  {
   "cell_type": "code",
   "execution_count": 7,
   "metadata": {},
   "outputs": [
    {
     "data": {
      "text/html": [
       "<div>\n",
       "<style scoped>\n",
       "    .dataframe tbody tr th:only-of-type {\n",
       "        vertical-align: middle;\n",
       "    }\n",
       "\n",
       "    .dataframe tbody tr th {\n",
       "        vertical-align: top;\n",
       "    }\n",
       "\n",
       "    .dataframe thead th {\n",
       "        text-align: right;\n",
       "    }\n",
       "</style>\n",
       "<table border=\"1\" class=\"dataframe\">\n",
       "  <thead>\n",
       "    <tr style=\"text-align: right;\">\n",
       "      <th></th>\n",
       "      <th>column.0</th>\n",
       "      <th>column.1</th>\n",
       "    </tr>\n",
       "  </thead>\n",
       "  <tbody>\n",
       "    <tr>\n",
       "      <th>3614</th>\n",
       "      <td>उन्‍होंने एक छोर संभालते हुए तेजतर्रार पारी खे...</td>\n",
       "      <td>positive</td>\n",
       "    </tr>\n",
       "    <tr>\n",
       "      <th>2405</th>\n",
       "      <td>RT @itsparvezsagar: शाहदरा बार एसोसिएशन के अध्...</td>\n",
       "      <td>neutral</td>\n",
       "    </tr>\n",
       "    <tr>\n",
       "      <th>8173</th>\n",
       "      <td>RT @aajtak: क्या राहुल गांधी दे सकते हैं मोदी ...</td>\n",
       "      <td>neutral</td>\n",
       "    </tr>\n",
       "    <tr>\n",
       "      <th>4319</th>\n",
       "      <td>डुमिनी ही एकमात्र ऐसे बल्लेबाज नजर आ रहे हैं ज...</td>\n",
       "      <td>negative</td>\n",
       "    </tr>\n",
       "    <tr>\n",
       "      <th>5322</th>\n",
       "      <td>इस चुनाव में बीजेपी ने मोदी की ब्रांडिंग करने ...</td>\n",
       "      <td>positive</td>\n",
       "    </tr>\n",
       "    <tr>\n",
       "      <th>...</th>\n",
       "      <td>...</td>\n",
       "      <td>...</td>\n",
       "    </tr>\n",
       "    <tr>\n",
       "      <th>6733</th>\n",
       "      <td>उन्होंने कहा कि अगर बकाये का भुगतान नहीं किया ...</td>\n",
       "      <td>negative</td>\n",
       "    </tr>\n",
       "    <tr>\n",
       "      <th>4119</th>\n",
       "      <td>शहर के बस स्टेंड से लेकर परासिया मार्ग तक ऑटो ...</td>\n",
       "      <td>negative</td>\n",
       "    </tr>\n",
       "    <tr>\n",
       "      <th>8042</th>\n",
       "      <td>दिन का सपना पूरा हुआ । बेटा CM हुआ । https://t...</td>\n",
       "      <td>neutral</td>\n",
       "    </tr>\n",
       "    <tr>\n",
       "      <th>5984</th>\n",
       "      <td>भारत एक विकासशील देश है</td>\n",
       "      <td>positive</td>\n",
       "    </tr>\n",
       "    <tr>\n",
       "      <th>708</th>\n",
       "      <td>RT @MohammadKaif: संकटो से घिरी हुई, पर हार नह...</td>\n",
       "      <td>positive</td>\n",
       "    </tr>\n",
       "  </tbody>\n",
       "</table>\n",
       "<p>4999 rows × 2 columns</p>\n",
       "</div>"
      ],
      "text/plain": [
       "                                               column.0  column.1\n",
       "3614  उन्‍होंने एक छोर संभालते हुए तेजतर्रार पारी खे...  positive\n",
       "2405  RT @itsparvezsagar: शाहदरा बार एसोसिएशन के अध्...   neutral\n",
       "8173  RT @aajtak: क्या राहुल गांधी दे सकते हैं मोदी ...   neutral\n",
       "4319  डुमिनी ही एकमात्र ऐसे बल्लेबाज नजर आ रहे हैं ज...  negative\n",
       "5322  इस चुनाव में बीजेपी ने मोदी की ब्रांडिंग करने ...  positive\n",
       "...                                                 ...       ...\n",
       "6733  उन्होंने कहा कि अगर बकाये का भुगतान नहीं किया ...  negative\n",
       "4119  शहर के बस स्टेंड से लेकर परासिया मार्ग तक ऑटो ...  negative\n",
       "8042  दिन का सपना पूरा हुआ । बेटा CM हुआ । https://t...   neutral\n",
       "5984                            भारत एक विकासशील देश है  positive\n",
       "708   RT @MohammadKaif: संकटो से घिरी हुई, पर हार नह...  positive\n",
       "\n",
       "[4999 rows x 2 columns]"
      ]
     },
     "execution_count": 7,
     "metadata": {},
     "output_type": "execute_result"
    }
   ],
   "source": [
    "table = data.copy().sample(9077, random_state=0,replace=False)\n",
    "table = table[['column.0', 'column.1']]\n",
    "table.dropna(inplace=True)\n",
    "table[1:5000]"
   ]
  },
  {
   "cell_type": "code",
   "execution_count": 8,
   "metadata": {},
   "outputs": [],
   "source": [
    "import pandas as pd\n",
    "from sklearn.feature_extraction.text import CountVectorizer\n",
    "from sklearn.calibration import CalibratedClassifierCV\n",
    "from sklearn.svm import LinearSVC"
   ]
  },
  {
   "cell_type": "code",
   "execution_count": 11,
   "metadata": {},
   "outputs": [],
   "source": [
    "import regex \n",
    "\n",
    "def custom_analyzer(text):\n",
    "    words = regex.findall(r'\\w{2,}', text) # extract words of at least 2 letters\n",
    "    for w in words:\n",
    "        yield w\n",
    "texts = table['column.0'].astype(str)\n",
    "y = table['column.1']\n",
    "\n",
    "# Vectorize the text\n",
    "vectorizer = CountVectorizer(analyzer=custom_analyzer)\n",
    "X = vectorizer.fit_transform(texts)"
   ]
  },
  {
   "cell_type": "code",
   "execution_count": 13,
   "metadata": {},
   "outputs": [
    {
     "data": {
      "text/plain": [
       "LinearSVC(class_weight='balanced', dual=False, max_iter=100000.0, tol=0.01)"
      ]
     },
     "execution_count": 13,
     "metadata": {},
     "output_type": "execute_result"
    }
   ],
   "source": [
    "model = LinearSVC(class_weight=\"balanced\", dual=False, tol=1e-2, max_iter=1e5)\n",
    "model.fit(X, y)"
   ]
  },
  {
   "cell_type": "code",
   "execution_count": 21,
   "metadata": {},
   "outputs": [],
   "source": [
    "text=\"आज़तक पर देखिये कितनी स्मार्ट हुई स्मार्ट फेंसिंग Exclusive आज रात 9.30 pm पर @BSF_India\""
   ]
  },
  {
   "cell_type": "code",
   "execution_count": 22,
   "metadata": {},
   "outputs": [],
   "source": [
    "X=vectorizer.transform([text])"
   ]
  },
  {
   "cell_type": "code",
   "execution_count": 23,
   "metadata": {},
   "outputs": [
    {
     "data": {
      "text/plain": [
       "array(['positive'], dtype=object)"
      ]
     },
     "execution_count": 23,
     "metadata": {},
     "output_type": "execute_result"
    }
   ],
   "source": [
    "model.predict(X)"
   ]
  },
  {
   "cell_type": "code",
   "execution_count": 24,
   "metadata": {},
   "outputs": [],
   "source": [
    "import pickle\n",
    "pickle.dump(vectorizer,open('hindi_vectorizer.pkl','wb'))"
   ]
  },
  {
   "cell_type": "code",
   "execution_count": 25,
   "metadata": {},
   "outputs": [],
   "source": [
    "pickle.dump(model,open('hindi_model.pkl','wb'))"
   ]
  },
  {
   "cell_type": "code",
   "execution_count": null,
   "metadata": {},
   "outputs": [],
   "source": []
  }
 ],
 "metadata": {
  "kernelspec": {
   "display_name": "Python 3",
   "language": "python",
   "name": "python3"
  },
  "language_info": {
   "codemirror_mode": {
    "name": "ipython",
    "version": 3
   },
   "file_extension": ".py",
   "mimetype": "text/x-python",
   "name": "python",
   "nbconvert_exporter": "python",
   "pygments_lexer": "ipython3",
   "version": "3.8.3"
  }
 },
 "nbformat": 4,
 "nbformat_minor": 4
}
